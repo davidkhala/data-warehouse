{
 "cells": [
  {
   "cell_type": "markdown",
   "id": "b95d1691-2be7-4bd0-b6aa-815d26850dec",
   "metadata": {
    "collapsed": false,
    "name": "cell1"
   },
   "source": [
    "# Switch between SQL and Python in notebooks\n",
    "\n",
    "This notebook demonstrates how to mix SQL and Python cells in a Snowflake notebook using Snowpark. You'll:\n",
    "\n",
    "- Use Python to explore data and transform it with DataFrames\n",
    "- Use SQL for quick queries\n",
    "- Switch back and forth between them, seamlessly"
   ]
  },
  {
   "cell_type": "code",
   "execution_count": null,
   "id": "3775908f-ca36-4846-8f38-5adca39217f2",
   "metadata": {
    "codeCollapsed": false,
    "language": "python",
    "name": "cell2"
   },
   "outputs": [],
   "source": [
    "# Create session\n",
    "from snowflake.snowpark.context import get_active_session\n",
    "session = get_active_session()"
   ]
  },
  {
   "cell_type": "markdown",
   "id": "010c4f0a-4fec-485f-a67c-8d1024734cfb",
   "metadata": {
    "collapsed": false,
    "name": "cell3"
   },
   "source": [
    "In a typical Python IDE, anything SQL-related has to be wrapped in `session.sql` to run within a Python workflow. \n",
    "\n",
    "As you can see in the next cell, this is not very clean from a code maintenance perspective — the stringified SQL is hard to read without code coloring, which can make my Notebook hard to follow."
   ]
  },
  {
   "cell_type": "code",
   "execution_count": null,
   "id": "7cee0f36-5818-4b22-a273-67eb8bdf0d0f",
   "metadata": {
    "codeCollapsed": false,
    "language": "python",
    "name": "cell4"
   },
   "outputs": [],
   "source": [
    "session.sql('''\n",
    "---> set the Role\n",
    "USE ROLE SNOWFLAKE_LEARNING_ROLE;\n",
    "---> set the Warehouse\n",
    "USE WAREHOUSE SNOWFLAKE_LEARNING_WH;\n",
    "---> set the Database\n",
    "USE DATABASE SNOWFLAKE_LEARNING_DB;\n",
    "---> set the Schema\n",
    "SET user_name = current_user();\n",
    "SET schema_name = CONCAT($user_name, '_SWITCH_BETWEEN_SQL_AND_PYTHON');\n",
    "USE SCHEMA IDENTIFIER($schema_name);\n",
    "''')\n",
    "session.sql('''\n",
    "CREATE OR REPLACE TABLE BOOK_CATALOG AS\n",
    "SELECT DATEADD(DAY, - UNIFORM (0, 180, RANDOM ()), CURRENT_DATE) AS TRANSACTION_DATE,\n",
    "       CONCAT ('978',LPAD (ABS(UNIFORM (1000000000, 9999999999, RANDOM ())),10,'0')) AS ISBN,\n",
    "       ABS(10-NORMAL(5, 2, RANDOM())) AS RATING,\n",
    "       ABS(NORMAL(25, 30::FLOAT, RANDOM())) AS PRICE,\n",
    "FROM TABLE(GENERATOR(ROWCOUNT => 100));\n",
    "''')"
   ]
  },
  {
   "cell_type": "markdown",
   "id": "ca3d2db2-1241-421e-8080-ea98fc16d58d",
   "metadata": {
    "collapsed": false,
    "name": "cell5"
   },
   "source": [
    "In a Snowflake Notebook, you can create SQL cells by clicking on the `+ SQL` button at the bottom of each cell, or change the language of your cell to `SQL` on the top-left cell dropdown."
   ]
  },
  {
   "cell_type": "code",
   "execution_count": null,
   "id": "8d50cbf4-0c8d-4950-86cb-114990437ac9",
   "metadata": {
    "codeCollapsed": false,
    "language": "sql",
    "name": "cell6"
   },
   "outputs": [],
   "source": [
    "---> set the Role\n",
    "USE ROLE SNOWFLAKE_LEARNING_ROLE;\n",
    "---> set the Warehouse\n",
    "USE WAREHOUSE SNOWFLAKE_LEARNING_WH;\n",
    "---> set the Database\n",
    "USE DATABASE SNOWFLAKE_LEARNING_DB;\n",
    "---> set the Schema\n",
    "SET user_name = current_user();\n",
    "SET schema_name = CONCAT($user_name, '_SWITCH_BETWEEN_SQL_AND_PYTHON');\n",
    "USE SCHEMA IDENTIFIER($schema_name);\n",
    "\n",
    "-- SQL query for generating synthetic dataset\n",
    "CREATE OR REPLACE TABLE BOOK_CATALOG AS\n",
    "SELECT DATEADD(DAY, - UNIFORM (0, 180, RANDOM ()), CURRENT_DATE) AS TRANSACTION_DATE,\n",
    "       CONCAT ('978',LPAD (ABS(UNIFORM (1000000000, 9999999999, RANDOM ())),10,'0')) AS ISBN,\n",
    "       ABS(10-NORMAL(5, 2, RANDOM())) AS RATING,\n",
    "       ABS(NORMAL(25, 30::FLOAT, RANDOM())) AS PRICE,\n",
    "FROM TABLE(GENERATOR(ROWCOUNT => 100));"
   ]
  },
  {
   "cell_type": "markdown",
   "id": "fc7c57e5-0304-46da-b443-ad9f013751d9",
   "metadata": {
    "collapsed": false,
    "name": "cell7"
   },
   "source": [
    "Now, you can use Python to access this SQL-generated table as a dataframe and print it out."
   ]
  },
  {
   "cell_type": "code",
   "execution_count": null,
   "id": "c695373e-ac74-4b62-a1f1-08206cbd5c81",
   "metadata": {
    "codeCollapsed": false,
    "language": "python",
    "name": "cell8"
   },
   "outputs": [],
   "source": [
    "# Start working with my Snowflake table in Python\n",
    "df = session.table(\"BOOK_CATALOG\")\n",
    "df"
   ]
  }
 ],
 "metadata": {
  "kernelspec": {
   "display_name": "Streamlit Notebook",
   "name": "streamlit"
  },
  "lastEditStatus": {
   "authorEmail": "tyler.goerzen@snowflake.com",
   "authorId": "4841311860426",
   "authorName": "TYLERGOERZEN",
   "lastEditTime": 1742589267675,
   "notebookId": "kfaieayy232itl62mcoe",
   "sessionId": "dea2e327-3f41-42b7-a01b-1e7c1323796c"
  }
 },
 "nbformat": 4,
 "nbformat_minor": 5
}
