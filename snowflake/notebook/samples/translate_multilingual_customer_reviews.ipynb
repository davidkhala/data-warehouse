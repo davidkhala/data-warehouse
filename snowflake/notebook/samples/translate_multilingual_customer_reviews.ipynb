{
 "metadata": {
  "kernelspec": {
   "display_name": "Streamlit Notebook",
   "name": "streamlit"
  }
 },
 "nbformat_minor": 5,
 "nbformat": 4,
 "cells": [
  {
   "cell_type": "markdown",
   "id": "beafe711-0ff7-4aa6-bd2d-d58ffc95bb92",
   "metadata": {
    "collapsed": false,
    "name": "OVERVIEW_MD",
    "resultHeight": 339
   },
   "source": "# Translate multilingual customer reviews using Snowflake Cortex\n\nThis template guides you through translating a sample batch of multilingual customer reviews using Snowflake Cortex in Python and SQL. \n\n### Context\n*Tasty Bytes* is a global food truck network operating in 15 countries with fleet of 450 trucks. They collect customer reviews to get customer feedback on their food-trucks which come in from multiple sources and span multiple languages. \n\nIn this notebook, we will look at how we analyze these collated customer reviews using Snowflake Cortex to understand what our international customers are saying with **Cortex Translate**.\n\n##"
  },
  {
   "cell_type": "markdown",
   "id": "388812a3-e27b-4552-8ba6-1d927caeadb8",
   "metadata": {
    "name": "INTRO_IMPORT_SAMPLE_DATA",
    "collapsed": false
   },
   "source": "### Import sample data\n\nIn this next SQL query, we will populate sample data that is used in this template."
  },
  {
   "cell_type": "code",
   "id": "9cfdf52a-db0a-4f84-9574-06627e91292c",
   "metadata": {
    "language": "sql",
    "name": "IMPORT_SAMPLE_DATA"
   },
   "outputs": [],
   "source": "USE ROLE SNOWFLAKE_LEARNING_ROLE;\n\n-- use the existing database, schema and warehouse\nUSE DATABASE SNOWFLAKE_LEARNING_DB;\n\nSET schema_name = CONCAT(current_user(), '_TRANSLATE_MULTILINGUAL_CUSTOMER_REVIEWS');\nUSE SCHEMA IDENTIFIER($schema_name);\n\n  /*--\n  • file format and stage creation\n  --*/\n\n  CREATE OR REPLACE FILE FORMAT csv_ff \n    TYPE = 'csv';\n\n  CREATE OR REPLACE STAGE s3load\n    COMMENT = 'Quickstarts S3 Stage Connection'\n    URL = 's3://sfquickstarts/tastybytes-voc/'\n    FILE_FORMAT = csv_ff;\n\n\n  /*--\n  • raw zone table build \n  --*/\n\n  -- truck_reviews table\n  CREATE OR REPLACE TABLE truck_reviews\n  (\n      order_id NUMBER(38,0),\n      language VARCHAR(16777216),\n      source VARCHAR(16777216),\n      review VARCHAR(16777216),\n      review_id NUMBER(18,0)\n  );\n  \n  /*--\n  • raw zone table load \n  --*/\n  \n  -- truck_reviews table load\n  COPY INTO truck_reviews\n  FROM @s3load/raw_support/truck_reviews/;\n\n-- setup completion note\nSELECT 'Setup is complete' AS note;",
   "execution_count": null
  },
  {
   "cell_type": "markdown",
   "id": "4db3f281-4a3d-48a5-b07e-3e967ea5a824",
   "metadata": {
    "collapsed": false,
    "name": "IMPORT_PACKAGES_MD",
    "resultHeight": 134
   },
   "source": "**Import python packages**\n\nSnowflake Notebooks include Streamlit and the third-party packages listed in the Snowflake Anaconda channel. \n\nNow that the necessary packages are installed, we will import the installed packages into the notebook."
  },
  {
   "cell_type": "code",
   "execution_count": null,
   "id": "3775908f-ca36-4846-8f38-5adca39217f2",
   "metadata": {
    "collapsed": false,
    "language": "python",
    "name": "IMPORT_PACKAGES",
    "resultHeight": 0,
    "codeCollapsed": false
   },
   "outputs": [],
   "source": "# Import python packages\nimport streamlit as st\nimport pandas as pd\n\n# Snowpark\nfrom snowflake.snowpark.context import get_active_session\nimport snowflake.snowpark.functions as F\nfrom snowflake.snowpark.functions import when, date_part, col\n\n# Cortex Functions\nimport snowflake.cortex  as cortex\n\nsession = get_active_session()"
  },
  {
   "cell_type": "markdown",
   "id": "ba1549f9-f4d0-447d-b447-4927a17e5d56",
   "metadata": {
    "collapsed": false,
    "name": "PREVIEW_REVIEWS_MD",
    "resultHeight": 41
   },
   "source": "### Let's preview the reviews\nIn this next Python cell, we are previewing the data, looking specifically at any non-English reviews."
  },
  {
   "cell_type": "code",
   "execution_count": null,
   "id": "4a2f5851-3b19-41b1-81a3-73f82b9c0966",
   "metadata": {
    "collapsed": false,
    "language": "python",
    "name": "PREVIEW_REVIEWS",
    "resultHeight": 351,
    "codeCollapsed": false
   },
   "outputs": [],
   "source": "reviews_df = (\n    session.table('TRUCK_REVIEWS')\n    .filter(col('LANGUAGE') != 'en')\n)\n\nreviews_df.select(\"LANGUAGE\",\"REVIEW\").show(20, max_width=125)"
  },
  {
   "cell_type": "markdown",
   "id": "214db186-a7d5-49ba-a428-6c335199741c",
   "metadata": {
    "collapsed": false,
    "name": "INTRO_PYTHON_TRANSLATE",
    "resultHeight": 67
   },
   "source": "### Use Cortex Translate on a Python dataframe\n\nIn the next cell, we will leverage **Translate** - one of the **Snowflake Cortex specialised LLM functions** available in Snowpark, to translate the multilingual reviews into English to enable easier analysis for anyone who doesn't speak the language of the original review."
  },
  {
   "cell_type": "code",
   "execution_count": null,
   "id": "43b8f914-e41b-433a-8544-5c20eb742dc5",
   "metadata": {
    "codeCollapsed": false,
    "collapsed": false,
    "language": "python",
    "name": "PYTHON_TRANSLATE",
    "resultHeight": 194
   },
   "outputs": [],
   "source": "# Conditionally translate reviews that are not english using Cortex Translate\nreviews_df = reviews_df.withColumn('TRANSLATED_REVIEW',when(F.col('LANGUAGE') != F.lit(\"en\"), \\\n                                                            cortex.translate(F.col('REVIEW'), \\\n                                                                             F.col('LANGUAGE'), \\\n                                                                             \"en\")) \\\n                                   .otherwise(F.col('REVIEW')))\n\nreviews_df.filter(F.col('LANGUAGE') != F.lit(\"en\")) \\\n.select([\"REVIEW\",\"LANGUAGE\",\"TRANSLATED_REVIEW\"]).show(20, max_width=75)"
  },
  {
   "cell_type": "markdown",
   "id": "ca3523ba-81d6-4bf0-8302-6e507f9b0152",
   "metadata": {
    "name": "INTRO_SQL_TRANSLATE",
    "collapsed": false
   },
   "source": "## Using Cortex Translate in SQL\nTranslate can also be completed in SQL by calling `SNOWFLAKE.CORTEX.TRANSLATE`. In this query, we are translating non-English reviews directly into a new `TRANSLATED_REVIEW` column. "
  },
  {
   "cell_type": "code",
   "id": "d5e1c503-e2ab-49be-9d7b-b22af2c4735b",
   "metadata": {
    "language": "sql",
    "name": "SQL_TRANSLATE"
   },
   "outputs": [],
   "source": "SELECT \n  REVIEW,\n  LANGUAGE,\n  CASE \n    WHEN LANGUAGE != 'en' THEN SNOWFLAKE.CORTEX.TRANSLATE(REVIEW, LANGUAGE, 'en')\n    ELSE REVIEW\n  END AS TRANSLATED_REVIEW\nFROM TRUCK_REVIEWS\nWHERE LANGUAGE != 'en'\nLIMIT 20;",
   "execution_count": null
  },
  {
   "cell_type": "markdown",
   "id": "6bac2888-1344-4ea9-85aa-49e38afad859",
   "metadata": {
    "collapsed": false,
    "name": "CONCLUSION",
    "resultHeight": 41
   },
   "source": "## Conclusion\n\nIn this template, we've demonstrated how to translate non-English customer reviews into English using Snowflake's Cortex Translate function. By following these steps, you now have a replicable process for:\n\n- **Identifying non-English reviews:** Filtering and targeting the right data.\n- **Applying conditional translation:** Leveraging SQL’s CASE statement to translate text on demand.\n- **Generating actionable insights:** Making multilingual data accessible for analysis.\n\nTo further enhance your understanding and explore more advanced use cases, continue learning about additional Cortex functions in the [Snowflake Cortex documentation](https://docs.snowflake.com/en/user-guide/snowflake-cortex/llm-functions).\n"
  }
 ]
}
