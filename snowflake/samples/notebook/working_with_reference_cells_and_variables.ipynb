{
 "cells": [
  {
   "cell_type": "markdown",
   "id": "d40f15d5-0f06-4c81-b4e6-a760771d44c2",
   "metadata": {
    "collapsed": false,
    "name": "cell1"
   },
   "source": [
    "# Reference cells and variables in Snowflake Notebooks\n",
    "Snowflake Notebooks enable you to reference the results of previous cells in your notebook. This allows you to seamlessly switch between working in Python and SQL, reusing the results and variables."
   ]
  },
  {
   "cell_type": "markdown",
   "id": "1ad40569-c979-461e-a2a0-98449785ba2f",
   "metadata": {
    "collapsed": false,
    "name": "cell2"
   },
   "source": [
    "## Referencing SQL output in Python cells\n",
    "\n",
    "We can access the SQL results directly in Python and convert the results to a Snowpark or pandas dataframe.\n",
    "\n",
    "The cell reference is based on the cell name. Note that if you change the cell name, you will also need to update the subsequent cell reference accordingly.\n",
    "\n",
    "\n",
    "### Example 1: Access SQL results as Snowpark or Pandas Dataframes\n"
   ]
  },
  {
   "cell_type": "code",
   "execution_count": null,
   "id": "3775908f-ca36-4846-8f38-5adca39217f2",
   "metadata": {
    "codeCollapsed": false,
    "language": "sql",
    "name": "cell3"
   },
   "outputs": [],
   "source": [
    "---> set the Role\n",
    "USE ROLE SNOWFLAKE_LEARNING_ROLE;\n",
    "---> set the Warehouse\n",
    "USE WAREHOUSE SNOWFLAKE_LEARNING_WH;\n",
    "---> set the Database\n",
    "USE DATABASE SNOWFLAKE_LEARNING_DB;\n",
    "---> set the Schema\n",
    "SET user_name = current_user();\n",
    "SET schema_name = CONCAT($user_name, '_WORKING_WITH_REFERENCE_CELLS_AND_VARIABLES');\n",
    "USE SCHEMA IDENTIFIER($schema_name);\n",
    "SELECT 'FRIDAY' as SNOWDAY, 0.2 as CHANCE_OF_SNOW\n",
    "UNION ALL\n",
    "SELECT 'SATURDAY',0.5\n",
    "UNION ALL\n",
    "SELECT 'SUNDAY', 0.9;"
   ]
  },
  {
   "cell_type": "code",
   "execution_count": null,
   "id": "8d50cbf4-0c8d-4950-86cb-114990437ac9",
   "metadata": {
    "codeCollapsed": false,
    "language": "python",
    "name": "cell4"
   },
   "outputs": [],
   "source": [
    "snowpark_df = cell3.to_df()\n",
    "snowpark_df.show()"
   ]
  },
  {
   "cell_type": "code",
   "execution_count": null,
   "id": "c695373e-ac74-4b62-a1f1-08206cbd5c81",
   "metadata": {
    "codeCollapsed": false,
    "language": "python",
    "name": "cell5"
   },
   "outputs": [],
   "source": [
    "pandas_df = cell3.to_pandas()\n",
    "print(pandas_df)"
   ]
  },
  {
   "cell_type": "markdown",
   "id": "585a54f7-5dd4-412a-9c42-89d5c5d5978c",
   "metadata": {
    "collapsed": false,
    "name": "cell6"
   },
   "source": [
    "## Referencing variables in SQL code\n",
    "\n",
    "You can use the Jinja syntax `{{..}}` to reference Python variables within your SQL queries as follows.\n",
    "\n",
    "### Example 2: Using Python variable value in a SQL query\n"
   ]
  },
  {
   "cell_type": "code",
   "execution_count": null,
   "id": "e73b633a-57d4-436c-baae-960c92c9cef6",
   "metadata": {
    "codeCollapsed": false,
    "collapsed": false,
    "language": "sql",
    "name": "cell7"
   },
   "outputs": [],
   "source": [
    "-- Create a dataset of countries\n",
    "CREATE OR REPLACE TABLE countries (\n",
    "    country_name VARCHAR(100)\n",
    ");\n",
    "\n",
    "INSERT INTO countries (country_name) VALUES\n",
    "    ('USA'),('Canada'),('United Kingdom'),('Germany'),('France'),\n",
    "    ('Australia'),('Japan'),('China'),('India'),('Brazil');"
   ]
  },
  {
   "cell_type": "code",
   "execution_count": null,
   "id": "e7a6f119-4f67-4ef5-a35f-117a7f502475",
   "metadata": {
    "codeCollapsed": false,
    "language": "python",
    "name": "cell8"
   },
   "outputs": [],
   "source": [
    "c = \"'USA'\""
   ]
  },
  {
   "cell_type": "code",
   "execution_count": null,
   "id": "60a59077-a4b1-4699-81a5-645addd8ad6d",
   "metadata": {
    "codeCollapsed": false,
    "language": "sql",
    "name": "cell9"
   },
   "outputs": [],
   "source": [
    "-- Filter to record where country name is equal to our Python variable\n",
    "SELECT * FROM countries WHERE COUNTRY_NAME = {{c}}"
   ]
  },
  {
   "cell_type": "markdown",
   "id": "decf8b5e-e804-439d-a186-3a329da12563",
   "metadata": {
    "collapsed": false,
    "name": "cell10"
   },
   "source": [
    "### Example 3: Referencing Notebook Cell in a SQL query"
   ]
  },
  {
   "cell_type": "code",
   "execution_count": null,
   "id": "9b49d972-3966-4fa6-9457-f028b06484a3",
   "metadata": {
    "codeCollapsed": false,
    "language": "sql",
    "name": "cell11"
   },
   "outputs": [],
   "source": [
    "-- Create dataset with columns PRODUCT_ID, RATING, PRICE\n",
    "SELECT CONCAT('SNOW-',UNIFORM(1000,9999, RANDOM())) AS PRODUCT_ID,\n",
    "       ABS(NORMAL(5, 3, RANDOM())) AS RATING,\n",
    "       ABS(NORMAL(750, 200::FLOAT, RANDOM())) AS PRICE\n",
    "FROM TABLE(GENERATOR(ROWCOUNT => 100));"
   ]
  },
  {
   "cell_type": "code",
   "execution_count": null,
   "id": "b7040f85-0ab8-4bdb-a36e-33599b79ea54",
   "metadata": {
    "codeCollapsed": false,
    "language": "sql",
    "name": "cell12"
   },
   "outputs": [],
   "source": [
    "-- Filter to products where price is greater than 500\n",
    "SELECT * FROM {{cell11}} where PRICE > 500"
   ]
  }
 ],
 "metadata": {
  "kernelspec": {
   "display_name": "Streamlit Notebook",
   "name": "streamlit"
  }
 },
 "nbformat": 4,
 "nbformat_minor": 5
}
