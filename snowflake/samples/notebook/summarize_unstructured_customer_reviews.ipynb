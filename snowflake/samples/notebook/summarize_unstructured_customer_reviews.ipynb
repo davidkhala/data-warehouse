{
 "metadata": {
  "kernelspec": {
   "display_name": "Streamlit Notebook",
   "name": "streamlit"
  }
 },
 "nbformat_minor": 5,
 "nbformat": 4,
 "cells": [
  {
   "cell_type": "markdown",
   "id": "beafe711-0ff7-4aa6-bd2d-d58ffc95bb92",
   "metadata": {
    "collapsed": false,
    "name": "OVERVIEW_MD",
    "resultHeight": 339
   },
   "source": "# Summarize unstructured customer reviews with Snowflake Cortex\nUnderstanding customer feedback is critical for businesses, but analyzing large volumes of unstructured text can be challenging. In this notebook, you'll use Snowflake Cortex to **summarize** unstructured customer feedback.\n\nBy the end, you'll see how Snowflake can help extract insights from unstructured data quickly and effectively.\n\n### Context\n*Tasty Bytes* is a global food truck network operating in 15 countries with a fleet of 450 trucks. They collect customer reviews to gain insights into their food truck operations, with feedback coming from multiple sources.\n\nIn this notebook, we will analyze these collated customer reviews using Snowflake Cortex to understand what our international customers are saying.\n\n##"
  },
  {
   "cell_type": "markdown",
   "id": "4db3f281-4a3d-48a5-b07e-3e967ea5a824",
   "metadata": {
    "collapsed": false,
    "name": "IMPORT_DATA_MD",
    "resultHeight": 134
   },
   "source": "## Import sample data\n\nIn this next SQL query, we will populate sample data that is used in this and other templates."
  },
  {
   "cell_type": "code",
   "id": "9980dae7-06d9-45b4-85e8-1a5f7c5ff240",
   "metadata": {
    "language": "sql",
    "name": "IMPORT_DATA"
   },
   "outputs": [],
   "source": "USE ROLE SNOWFLAKE_LEARNING_ROLE;\n\n-- use the existing database, schema and warehouse\nUSE DATABASE SNOWFLAKE_LEARNING_DB;\n\nSET schema_name = CONCAT(current_user(), '_SUMMARIZE_UNSTRUCTURED_CUSTOMER_REVIEWS');\nUSE SCHEMA IDENTIFIER($schema_name);\n\n  /*--\n  • file format and stage creation\n  --*/\n\n  CREATE OR REPLACE FILE FORMAT csv_ff \n    TYPE = 'csv';\n\n  CREATE OR REPLACE STAGE s3load\n    COMMENT = 'Quickstarts S3 Stage Connection'\n    URL = 's3://sfquickstarts/tastybytes-voc/'\n    FILE_FORMAT = csv_ff;\n\n\n  /*--\n  • raw zone table build \n  --*/\n\n  -- truck_reviews table\n  CREATE OR REPLACE TABLE truck_reviews\n  (\n      order_id NUMBER(38,0),\n      language VARCHAR(16777216),\n      source VARCHAR(16777216),\n      review VARCHAR(16777216),\n      review_id NUMBER(18,0)\n  );\n  \n  /*--\n  • raw zone table load \n  --*/\n  \n  -- truck_reviews table load\n  COPY INTO truck_reviews\n  FROM @s3load/raw_support/truck_reviews/;\n\n-- setup completion note\nSELECT 'Setup is complete' AS note;\n",
   "execution_count": null
  },
  {
   "cell_type": "markdown",
   "id": "20f2093f-dd35-411b-8ede-90556f7e2ccf",
   "metadata": {
    "name": "IMPORT_PACKAGES_MD",
    "collapsed": false
   },
   "source": "## Import python packages\n\nSnowflake Notebooks include Streamlit and the third-party packages listed in the Snowflake Anaconda channel. \n\nNow that the necessary packages are installed, we will import the installed packages into the notebook."
  },
  {
   "cell_type": "code",
   "execution_count": null,
   "id": "3775908f-ca36-4846-8f38-5adca39217f2",
   "metadata": {
    "collapsed": false,
    "language": "python",
    "name": "IMPORT_PACKAGES",
    "resultHeight": 0,
    "codeCollapsed": false
   },
   "outputs": [],
   "source": "# Snowpark\nfrom snowflake.snowpark.context import get_active_session\nimport snowflake.snowpark.functions as F\n\n# Cortex Functions\nimport snowflake.cortex  as cortex\n\nsession = get_active_session()"
  },
  {
   "cell_type": "markdown",
   "id": "ba1549f9-f4d0-447d-b447-4927a17e5d56",
   "metadata": {
    "collapsed": false,
    "name": "PREVIEW_TABLE_MD",
    "resultHeight": 41
   },
   "source": "## Overview of `TRUCK_REVIEWS` table"
  },
  {
   "cell_type": "code",
   "id": "c7dc6837-6c2a-4aed-820d-6c1ce45ce06e",
   "metadata": {
    "language": "sql",
    "name": "PREVIEW_TABLE"
   },
   "outputs": [],
   "source": "SELECT * FROM TRUCK_REVIEWS LIMIT 15;",
   "execution_count": null
  },
  {
   "cell_type": "markdown",
   "id": "0e4d7059-4cc1-4682-9a95-e6440d09811f",
   "metadata": {
    "name": "CORTEX_SUMMARIZE_MD",
    "collapsed": false
   },
   "source": "## Summarize reviews for each food truck\nTo quickly extract key insights, we can use Snowflake Cortex's **summarize** function. This will generate concise summaries of the aggregated customer reviews for each truck brand. We can accomplish this in both Python and SQL."
  },
  {
   "cell_type": "markdown",
   "id": "00ad726a-4a42-4164-831e-adcb8d75e272",
   "metadata": {
    "name": "PYTHON_SUMMARIZE_MD",
    "collapsed": false
   },
   "source": "### Summarize an entire column of a Python dataframe\n\nIn the following Python cell, we use **Cortex's `cortex.summarize()` function** to generate a summary of all reviews for each brand."
  },
  {
   "cell_type": "code",
   "id": "ff217432-5256-473d-a317-33fa53b01a91",
   "metadata": {
    "language": "python",
    "name": "PYTHON_SUMMARIZE",
    "collapsed": false,
    "resultHeight": 412,
    "codeCollapsed": false
   },
   "outputs": [],
   "source": "reviews_df = session.table('truck_reviews')\n\nsummarized_reviews_df = reviews_df.withColumn('SUMMARY', cortex.summarize(F.col('REVIEW')))\n                                   \nsummarized_reviews_df.select('SUMMARY').show(15, max_width = 125)",
   "execution_count": null
  },
  {
   "cell_type": "markdown",
   "id": "d7382377-ff94-477e-a66d-1b7425168041",
   "metadata": {
    "name": "SQL_SUMMARIZE_MD",
    "collapsed": false
   },
   "source": "### Summarize an entire column of text in SQL\nIn the following SQL query, we use **Cortex's `snowflake.cortex.summarize()`** to generate a summary of each review for each brand."
  },
  {
   "cell_type": "code",
   "id": "abb868bc-519a-44fe-84f3-802fd3300fae",
   "metadata": {
    "language": "sql",
    "name": "SQL_SUMMARIZE"
   },
   "outputs": [],
   "source": "SELECT \n  REVIEW,\n  SNOWFLAKE.CORTEX.SUMMARIZE(REVIEW) AS REVIEW_SUMMARY\nFROM TRUCK_REVIEWS\nLIMIT 15;\n",
   "execution_count": null
  },
  {
   "cell_type": "markdown",
   "id": "e5137071-7b70-44f1-afac-2396cc03833f",
   "metadata": {
    "name": "CONCLUSION_MD",
    "collapsed": false
   },
   "source": "# Conclusion\nIn this template, we've demonstrated how to summarize unstructured customer reviews using Snowflake Cortex. \n\nThis approach allows businesses to quickly gain actionable insights from customer reviews, enabling data-driven decision-making. \n\nTo learn more about Cortex Summarize and other Cortex LLM Functions, check out the [Cortex Summarize](https://docs.snowflake.com/en/sql-reference/functions/summarize-snowflake-cortex) and [Cortex LLM Functions](https://docs.snowflake.com/en/user-guide/snowflake-cortex/llm-functions) documentation."
  }
 ]
}
