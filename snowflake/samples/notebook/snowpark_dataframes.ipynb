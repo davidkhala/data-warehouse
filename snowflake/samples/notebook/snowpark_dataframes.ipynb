{
 "metadata": {
  "kernelspec": {
   "display_name": "Streamlit Notebook",
   "name": "streamlit"
  }
 },
 "nbformat_minor": 5,
 "nbformat": 4,
 "cells": [
  {
   "cell_type": "markdown",
   "id": "169ed4c5-4134-4f58-b7cb-7f995f1bdab7",
   "metadata": {
    "name": "md_intro",
    "collapsed": false
   },
   "source": "# Quick Reference: Python Functions in Snowpark\n\nThis quick reference provides an overview of essential Python functions available in Snowpark. Snowpark enables developers to process and analyze data efficiently within Snowflake using Python. \n\nBelow, you'll find key operations categorized by functionality, along with examples demonstrating their usage."
  },
  {
   "cell_type": "markdown",
   "id": "65bf29fc-264d-4947-aa08-d0e27cab7ab4",
   "metadata": {
    "name": "md_part1",
    "collapsed": false
   },
   "source": "## 1. Initializing Snowpark Session\nBefore using Snowpark, you need to create a session that connects to your Snowflake environment. This session serves as the gateway for executing Snowpark functions and interacting with data stored in Snowflake."
  },
  {
   "cell_type": "code",
   "id": "3775908f-ca36-4846-8f38-5adca39217f2",
   "metadata": {
    "language": "python",
    "name": "py_part1"
   },
   "source": "# Import python packages\nimport snowflake.snowpark.types as T\nimport snowflake.snowpark.functions as F\n\n# We can also use Snowpark for our analyses!\nfrom snowflake.snowpark.context import get_active_session\nsession = get_active_session()",
   "execution_count": null,
   "outputs": []
  },
  {
   "cell_type": "markdown",
   "id": "2fde5492-1714-4ec7-9b3f-4c7a1dcb8dcd",
   "metadata": {
    "name": "md_part2",
    "collapsed": false
   },
   "source": "## 2. Creating DataFrames\nSnowpark DataFrames allow you to interact with data stored in Snowflake using a Pandas-like syntax while leveraging Snowflake’s performance optimizations."
  },
  {
   "cell_type": "markdown",
   "id": "82b363f3-491a-4fb7-8f25-7dbff4ec59d3",
   "metadata": {
    "name": "cell20",
    "collapsed": false
   },
   "source": "### Create a dataframe with defined column types"
  },
  {
   "cell_type": "code",
   "id": "270da374-54b6-4f49-b911-9e4b11e7b3b8",
   "metadata": {
    "language": "python",
    "name": "cell19"
   },
   "outputs": [],
   "source": "schema = T.StructType([\n    T.StructField(\"R_REGIONKEY\", T.LongType(), nullable=False),\n    T.StructField(\"R_NAME\", T.StringType(25), nullable=False),\n    T.StructField(\"R_COMMENT\", T.StringType(152), nullable=False)\n])\ndata = [\n    [0, \"AFRICA\", \"\"],\n    [1, \"AMERICA\", \"\"],\n    [2, \"ASIA\", \"\"],\n    [3, \"EUROPE\", \"\"],\n    [4, \"MIDDLE EAST\", \"\"]\n]\ndf_region = session.create_dataframe(data, schema)\ndf_region.limit(10).show()",
   "execution_count": null
  },
  {
   "cell_type": "markdown",
   "id": "a7a9e6d3-86e0-4ec9-8cba-e44ca0f03d47",
   "metadata": {
    "name": "cell22",
    "collapsed": false
   },
   "source": "### Create a dataframe from a table\nNote: This template requires the Snowflake provided snowflake_sample_data database. If you don't have this database already in your account please add it by following these instructions: https://docs.snowflake.net/manuals/user-guide/sample-data-using.html"
  },
  {
   "cell_type": "code",
   "id": "0c492271-2352-47cc-809c-1859be1c1873",
   "metadata": {
    "language": "python",
    "name": "cell21",
    "collapsed": false,
    "codeCollapsed": false
   },
   "outputs": [],
   "source": "df_nation = session.table('SNOWFLAKE_SAMPLE_DATA.TPCH_SF1.NATION')\ndf_nation.limit(10).show()",
   "execution_count": null
  },
  {
   "cell_type": "markdown",
   "id": "0fb6e1a3-71ce-4e14-b7c8-4619960f7ac7",
   "metadata": {
    "name": "cell23",
    "collapsed": false
   },
   "source": "### Create a dataframe from a SQL query"
  },
  {
   "cell_type": "code",
   "id": "c695373e-ac74-4b62-a1f1-08206cbd5c81",
   "metadata": {
    "language": "python",
    "name": "py_part2",
    "codeCollapsed": false
   },
   "source": "df_customer = session.sql(\"SELECT * FROM SNOWFLAKE_SAMPLE_DATA.TPCH_SF1.CUSTOMER\")\ndf_customer.limit(10).show()",
   "execution_count": null,
   "outputs": []
  },
  {
   "cell_type": "markdown",
   "id": "f5dd5cc4-72a6-4218-88fe-28e2870ea69f",
   "metadata": {
    "name": "md_part3",
    "collapsed": false
   },
   "source": "## 3. Basic queries for selecting and filtering\nYou can retrieve specific columns and apply filters using Snowpark’s DataFrame functions."
  },
  {
   "cell_type": "markdown",
   "id": "70e867b8-fa14-4608-b357-55f8e6bb02e1",
   "metadata": {
    "name": "cell2",
    "collapsed": false
   },
   "source": "### Get a count of records in the dataframe"
  },
  {
   "cell_type": "code",
   "id": "c467b435-b10b-4042-977c-a17ba8692bc4",
   "metadata": {
    "language": "python",
    "name": "cell4"
   },
   "outputs": [],
   "source": "print(df_customer.count())",
   "execution_count": null
  },
  {
   "cell_type": "markdown",
   "id": "23ec2783-ded5-4c19-90e9-469fa6f4882f",
   "metadata": {
    "name": "cell5",
    "collapsed": false
   },
   "source": "### Display the top 10 records in the dataframe"
  },
  {
   "cell_type": "code",
   "id": "56f84a64-1868-444b-88a3-bbab467391e3",
   "metadata": {
    "language": "python",
    "name": "cell3"
   },
   "outputs": [],
   "source": "df_customer.limit(10).show()",
   "execution_count": null
  },
  {
   "cell_type": "markdown",
   "id": "d8d5dd37-c508-4c98-a138-d0237645d763",
   "metadata": {
    "name": "cell11",
    "collapsed": false
   },
   "source": "### Select a subset of the columns in the dataframe to display"
  },
  {
   "cell_type": "code",
   "id": "cb7ba5d3-40de-4737-8948-d4454b35b694",
   "metadata": {
    "language": "python",
    "name": "cell6"
   },
   "outputs": [],
   "source": "df_customer.select(\"C_NAME\", \"C_NATIONKEY\").limit(10).show()",
   "execution_count": null
  },
  {
   "cell_type": "markdown",
   "id": "e8aa98f2-6031-476a-9672-2d5e5979a129",
   "metadata": {
    "name": "cell12",
    "collapsed": false
   },
   "source": "### Add calcuated conditional when clause column based on account balance"
  },
  {
   "cell_type": "code",
   "id": "9773eb5a-3d2f-4da1-8eb9-db35950c32d4",
   "metadata": {
    "language": "python",
    "name": "cell7",
    "codeCollapsed": false
   },
   "outputs": [],
   "source": "df_customer.select(\"C_NAME\", F.when(df_customer.c_acctbal < 2000, 1).otherwise(0).alias(\"BAL_LT_2000\")).limit(10).show()",
   "execution_count": null
  },
  {
   "cell_type": "markdown",
   "id": "6b61b3cc-3274-44dc-b712-6ab58dd6d450",
   "metadata": {
    "name": "cell13",
    "collapsed": false
   },
   "source": "### Add calculated column taking substring of segment name"
  },
  {
   "cell_type": "code",
   "id": "880f1390-55af-4c7d-b571-c8bbdf51cb2b",
   "metadata": {
    "language": "python",
    "name": "cell8",
    "codeCollapsed": false
   },
   "outputs": [],
   "source": "df_customer.select(\"C_NAME\", df_customer.c_mktsegment.substr(1,3).alias(\"SEGMENT_FIRST_THREE\")).show()",
   "execution_count": null
  },
  {
   "cell_type": "markdown",
   "id": "f794f00b-187f-42b6-97bb-a36cb62a90b5",
   "metadata": {
    "name": "cell14",
    "collapsed": false
   },
   "source": "### Sorting the rows in a dataframe"
  },
  {
   "cell_type": "code",
   "id": "7fb3dd0f-3db7-486f-a5a4-bd23022b7756",
   "metadata": {
    "language": "python",
    "name": "cell9"
   },
   "outputs": [],
   "source": "df_customer.sort(F.col(\"C_MKTSEGMENT\").asc()).limit(10).collect()",
   "execution_count": null
  },
  {
   "cell_type": "markdown",
   "id": "685c9fc7-a3d6-49fc-af28-12cd6a58a5d2",
   "metadata": {
    "name": "cell15",
    "collapsed": false
   },
   "source": "### Basic filtering on a dataframe"
  },
  {
   "cell_type": "code",
   "id": "ab76794c-1f21-4b3d-ac33-e8c20d9d1c2c",
   "metadata": {
    "language": "python",
    "name": "cell10"
   },
   "outputs": [],
   "source": "df_customer.filter(F.col(\"C_ACCTBAL\") < 2000).limit(10).show()",
   "execution_count": null
  },
  {
   "cell_type": "markdown",
   "id": "1adfb6df-597c-455f-be48-aa13980e9091",
   "metadata": {
    "name": "md_part4",
    "collapsed": false
   },
   "source": "## 4. Grouping and Aggregations\nSnowpark allows you to perform aggregations such as counting, summing, and averaging data."
  },
  {
   "cell_type": "markdown",
   "id": "2787d456-5dec-47a9-9eb1-1e276d26408a",
   "metadata": {
    "name": "cell18",
    "collapsed": false
   },
   "source": "### Count the number of rows in each group"
  },
  {
   "cell_type": "code",
   "id": "f8420021-3c11-4500-858a-04c22bbfd373",
   "metadata": {
    "language": "python",
    "name": "py_part4"
   },
   "outputs": [],
   "source": "df_customer.group_by(F.col(\"C_NATIONKEY\")).count().show()",
   "execution_count": null
  },
  {
   "cell_type": "markdown",
   "id": "cafe4b51-ba2f-40bb-803f-2af23ffa9a7f",
   "metadata": {
    "name": "cell17",
    "collapsed": false
   },
   "source": "### Sum the account balance in each group"
  },
  {
   "cell_type": "code",
   "id": "0a26a8bd-c136-4445-a8ed-2439e0118ba7",
   "metadata": {
    "language": "python",
    "name": "cell16"
   },
   "outputs": [],
   "source": "df_customer.group_by(F.col(\"C_NATIONKEY\")).agg(F.sum(\"C_ACCTBAL\").alias(\"ACCTBAL_SUM\")).show()",
   "execution_count": null
  },
  {
   "cell_type": "markdown",
   "id": "eea1734f-cb34-4103-ad27-623f10c70ceb",
   "metadata": {
    "name": "md_part5",
    "collapsed": false
   },
   "source": "## 5. Joins\nYou can join multiple DataFrames to combine related data from different sources."
  },
  {
   "cell_type": "code",
   "id": "639a4826-11c7-4495-9671-17353800d0c2",
   "metadata": {
    "language": "python",
    "name": "py_part5"
   },
   "outputs": [],
   "source": "# Join two tables and define the join condition\ndf_nation_region = df_nation.join(df_region, df_nation['N_REGIONKEY'] == df_region['R_REGIONKEY'])\ndf_nation_region.limit(10).show()\n\n# Join to a third table\ndf_combined = df_customer.join(df_nation_region, df_customer['C_NATIONKEY'] == df_nation_region['N_NATIONKEY'])\ndf_combined.limit(10).show()",
   "execution_count": null
  },
  {
   "cell_type": "markdown",
   "id": "4fd72a95-bcf1-46fa-8fa0-2ce5f7f32ddf",
   "metadata": {
    "name": "md_part6",
    "collapsed": false
   },
   "source": "## 6. Understanding the Schema\n\nKnowing the structure of a DataFrame is crucial for data manipulation:\n\n* df_nation.columns: Lists the column names.\n* df_nation.schema: Returns the full schema of the DataFrame.\n* df_nation.printSchema(): Prints a readable version of the schema.\n* df_nation.dtypes: Returns column names along with their data types."
  },
  {
   "cell_type": "code",
   "id": "dc7fbab1-4157-4530-bf91-5ffa18132ec5",
   "metadata": {
    "language": "python",
    "name": "py_part6"
   },
   "outputs": [],
   "source": "# Queries to understand the schema of a dataframe\ndf_nation.columns # Return the columns of dataframe\ndf_nation.schema # Return the schema of dataframe\ndf_nation.printSchema() # Print the schema of the dataframe\ndf_nation.dtypes # Return dataframe column names and data types",
   "execution_count": null
  },
  {
   "cell_type": "markdown",
   "id": "837d5289-ae19-489b-b240-2ea7dcbb3d29",
   "metadata": {
    "name": "cell24",
    "collapsed": false
   },
   "source": "### Query Execution Plan\nTo optimize queries, you can inspect the execution plan.\n\nThese functions help you explore and validate your data before performing transformations or further analysis.\n"
  },
  {
   "cell_type": "code",
   "id": "196e8e87-40ed-48d0-983e-745921a02ab7",
   "metadata": {
    "language": "python",
    "name": "cell25"
   },
   "outputs": [],
   "source": "# Functions to view the query plan\ndf_nation.explain() # Print the list of queries that will be executed to evaluate this dataframe",
   "execution_count": null
  },
  {
   "cell_type": "markdown",
   "id": "c8670a56-2f0d-4c6f-a729-6cf74bd7f48b",
   "metadata": {
    "name": "md_part7",
    "collapsed": false
   },
   "source": "## 7. Saving DataFrames\nAfter processing data, you can write it back to a new or existing Snowflake table."
  },
  {
   "cell_type": "code",
   "id": "466b1dea-7b80-4e3d-9347-22ac8aa283b3",
   "metadata": {
    "language": "python",
    "name": "py_part7"
   },
   "outputs": [],
   "source": "# Save dataframe to a new table, overwritting if it exists\n# To create a permanent table, remove the table_type parameter\n# To append data to an existing table, change the mode to \"append\"\ndf_combined.write.mode(\"overwrite\").save_as_table(\"saved_table\", table_type=\"temporary\")\ndf_saved_table = session.table(\"saved_table\")\ndf_saved_table.show()\n\n\n# Merge a dataframe with a table (upsert)\n# Build the list of columns to update\ncols_to_update = {c: df_combined[c] for c in df_combined.schema.names}\n# Then do the actual merge\ndf_saved_table.merge(df_combined, (df_saved_table[\"C_CUSTKEY\"] == df_combined[\"C_CUSTKEY\"]), \\\n    [F.when_matched().update(cols_to_update), F.when_not_matched().insert(cols_to_update)])",
   "execution_count": null
  },
  {
   "cell_type": "markdown",
   "id": "1fb70021-19d0-4185-bfa2-17fdd6ac9ae8",
   "metadata": {
    "name": "cell1",
    "collapsed": false
   },
   "source": "# Conclusion\nThis cheat sheet provides a concise overview of commonly used Snowpark Python functions. By leveraging these functions, you can efficiently process data, perform transformations, and execute advanced operations within Snowflake. \n\n\nPlease also check out our developer guides covering [Working with DataFrames in Snowpark Python](https://docs.snowflake.com/en/developer-guide/snowpark/python/working-with-dataframes) and [Snowpark APIs](https://docs.snowflake.com/developer-guide/snowpark/reference/python/latest/snowpark/index)."
  }
 ]
}
